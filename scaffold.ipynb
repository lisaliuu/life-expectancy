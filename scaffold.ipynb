{
 "cells": [
  {
   "cell_type": "code",
   "execution_count": null,
   "metadata": {},
   "outputs": [],
   "source": []
  },
  {
   "cell_type": "markdown",
   "metadata": {},
   "source": [
    "Plan/Approach:  NN\n",
    "- 5 input features into a NN, 1 out (life expectancy), split train test\n",
    "    - 3 different NN\n",
    "        * Dropout layers\n",
    "\n",
    "Output:\n",
    "- Plot of accuracy vs # of layers\n",
    "- Plot of accuracy vs activation function\n",
    "- Plot loss of model vs training time\n",
    "- Report best accuracy (MSE)\n"
   ]
  },
  {
   "cell_type": "markdown",
   "metadata": {},
   "source": [
    "Plan/Approach: LIN REG\n",
    "* PCA\n",
    "* Regularization (L1 vs L2) norm\n",
    "* Linear regression\n",
    "\n",
    "Output:\n",
    "* Percentage of accuracy for test data (89% MSE)\n",
    "* PCA -> features found and used\n",
    "* Accuracy with and without regularization\n",
    "    * Plot regularized and non-regularized prediction vs actual life expectancy"
   ]
  }
 ],
 "metadata": {
  "language_info": {
   "name": "python"
  }
 },
 "nbformat": 4,
 "nbformat_minor": 2
}
